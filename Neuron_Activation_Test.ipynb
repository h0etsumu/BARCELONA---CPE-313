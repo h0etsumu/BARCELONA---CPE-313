{
  "nbformat": 4,
  "nbformat_minor": 0,
  "metadata": {
    "colab": {
      "provenance": [],
      "authorship_tag": "ABX9TyNl1NETZYDfVqwUoUeZp4H8",
      "include_colab_link": true
    },
    "kernelspec": {
      "name": "python3",
      "display_name": "Python 3"
    },
    "language_info": {
      "name": "python"
    }
  },
  "cells": [
    {
      "cell_type": "markdown",
      "metadata": {
        "id": "view-in-github",
        "colab_type": "text"
      },
      "source": [
        "<a href=\"https://colab.research.google.com/github/h0etsumu/BARCELONA---CPE-313/blob/main/Neuron_Activation_Test.ipynb\" target=\"_parent\"><img src=\"https://colab.research.google.com/assets/colab-badge.svg\" alt=\"Open In Colab\"/></a>"
      ]
    },
    {
      "cell_type": "code",
      "source": [
        "import numpy as np"
      ],
      "metadata": {
        "id": "lrmqlUOMWfCf"
      },
      "execution_count": 2,
      "outputs": []
    },
    {
      "cell_type": "code",
      "execution_count": 17,
      "metadata": {
        "colab": {
          "base_uri": "https://localhost:8080/"
        },
        "id": "rGhl1QlzIj9V",
        "outputId": "6e3c337c-95f5-4ebf-a4eb-506d29202bb2"
      },
      "outputs": [
        {
          "output_type": "stream",
          "name": "stdout",
          "text": [
            "3.9000000000000004\n"
          ]
        }
      ],
      "source": [
        "# X as input, Y as output, W as weights\n",
        "\n",
        "class NeuronAct:\n",
        "  def __init__(self, w, activation):\n",
        "    self.w = w\n",
        "    self.activation = activation\n",
        "\n",
        "  def compute(self, x):\n",
        "    weighted_sum = np.dot(self.w, x) # Adder function\n",
        "    return self.activation(weighted_sum)\n",
        "\n",
        "w = np.array([0.1, 0.5, 0.10, 0.5, 0.10])\n",
        "activation = lambda x: np.maximum(0.0, x) # RELU Activation\n",
        "\n",
        "neuron = NeuronAct(w, activation)\n",
        "\n",
        "x = np.array([1, 2, 3, 4, 5])\n",
        "y = neuron.compute(x)\n",
        "\n",
        "print(y)"
      ]
    }
  ]
}